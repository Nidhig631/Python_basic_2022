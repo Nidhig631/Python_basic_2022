{
  "nbformat": 4,
  "nbformat_minor": 0,
  "metadata": {
    "colab": {
      "name": "Azurelib-Python-Learning_class2.ipynb",
      "provenance": [],
      "collapsed_sections": [],
      "authorship_tag": "ABX9TyOLwtU2TZf1mGx0wum4Hg8L",
      "include_colab_link": true
    },
    "kernelspec": {
      "name": "python3",
      "display_name": "Python 3"
    },
    "language_info": {
      "name": "python"
    }
  },
  "cells": [
    {
      "cell_type": "markdown",
      "metadata": {
        "id": "view-in-github",
        "colab_type": "text"
      },
      "source": [
        "<a href=\"https://colab.research.google.com/github/Nidhig631/Python_basic_2022/blob/master/Azurelib_Python_Learning_class2.ipynb\" target=\"_parent\"><img src=\"https://colab.research.google.com/assets/colab-badge.svg\" alt=\"Open In Colab\"/></a>"
      ]
    },
    {
      "cell_type": "code",
      "execution_count": null,
      "metadata": {
        "id": "qw8a0c15qHjH"
      },
      "outputs": [],
      "source": [
        "#Operators\n",
        "# Arithemtic (+, -,*,%,^)\n",
        "# Relational (<,>,<=,>=,==,!=)\n",
        "# Assigment (=)\n",
        "# Logical( and ,or , not)\n",
        "# membership (in , not in)\n",
        "# identity (is , is not) check varibales are same or not.\n",
        "# bitwise (&, |, ^,~)\n",
        "# ternary ()"
      ]
    },
    {
      "cell_type": "code",
      "source": [
        "a=2\n",
        "b=1\n",
        "print(a&b); #binary-and\n",
        "print(a|b); #binary-or\n"
      ],
      "metadata": {
        "colab": {
          "base_uri": "https://localhost:8080/"
        },
        "id": "iaxb3V5sqFyR",
        "outputId": "43e0ecaf-acf6-4766-c7cf-dab607125813"
      },
      "execution_count": 15,
      "outputs": [
        {
          "output_type": "stream",
          "name": "stdout",
          "text": [
            "0\n",
            "3\n"
          ]
        }
      ]
    },
    {
      "cell_type": "code",
      "source": [
        "#ternary operator\n",
        "a=10\n",
        "b=2\n",
        "c=30 if a < b else 20\n",
        "print(c)\n"
      ],
      "metadata": {
        "colab": {
          "base_uri": "https://localhost:8080/"
        },
        "id": "DNr_d7ITqG5n",
        "outputId": "8492daea-d9a7-46b5-f43d-5890e0857ca4"
      },
      "execution_count": 17,
      "outputs": [
        {
          "output_type": "stream",
          "name": "stdout",
          "text": [
            "20\n"
          ]
        }
      ]
    },
    {
      "cell_type": "code",
      "source": [
        "#precedence\n",
        "paranthesis \n",
        "exponential operators\n",
        "bitwise\n",
        "multiplication/division\n",
        "identity\n",
        "membership\n",
        "logical\n",
        "\n"
      ],
      "metadata": {
        "id": "Ky3uaIduq9LI"
      },
      "execution_count": null,
      "outputs": []
    },
    {
      "cell_type": "code",
      "source": [
        "print(3+10*2);\n",
        "print((3+10)*2);"
      ],
      "metadata": {
        "colab": {
          "base_uri": "https://localhost:8080/"
        },
        "id": "YTdkS7bZq9L7",
        "outputId": "7b8d7517-39b6-49de-a00e-e7ec602e7649"
      },
      "execution_count": 19,
      "outputs": [
        {
          "output_type": "stream",
          "name": "stdout",
          "text": [
            "23\n",
            "26\n"
          ]
        }
      ]
    },
    {
      "cell_type": "code",
      "source": [
        "a=10\n",
        "b=20\n",
        "print(a+b);"
      ],
      "metadata": {
        "colab": {
          "base_uri": "https://localhost:8080/"
        },
        "id": "z7CCSgRHrA3b",
        "outputId": "ac6ff38c-be5d-436e-cbe9-e611a2db1a59"
      },
      "execution_count": null,
      "outputs": [
        {
          "output_type": "stream",
          "name": "stdout",
          "text": [
            "30\n"
          ]
        }
      ]
    },
    {
      "cell_type": "code",
      "source": [
        "a=5\n",
        "c=2\n",
        "print(a+c);"
      ],
      "metadata": {
        "colab": {
          "base_uri": "https://localhost:8080/"
        },
        "id": "h72UtBFuwtdh",
        "outputId": "83b8184d-d4a2-466a-fe8c-e4a05a1fb80f"
      },
      "execution_count": null,
      "outputs": [
        {
          "output_type": "stream",
          "name": "stdout",
          "text": [
            "7\n"
          ]
        }
      ]
    },
    {
      "cell_type": "code",
      "source": [
        ""
      ],
      "metadata": {
        "id": "lnqPkyGbw-xa"
      },
      "execution_count": null,
      "outputs": []
    },
    {
      "cell_type": "code",
      "source": [
        "a=10\n",
        "print(a**2);"
      ],
      "metadata": {
        "colab": {
          "base_uri": "https://localhost:8080/"
        },
        "id": "f0uQhH6Zw-yY",
        "outputId": "e15adf06-00aa-4cf5-c644-8d68ded20cea"
      },
      "execution_count": null,
      "outputs": [
        {
          "output_type": "stream",
          "name": "stdout",
          "text": [
            "100\n"
          ]
        }
      ]
    },
    {
      "cell_type": "code",
      "source": [
        "a=10\n",
        "b=5\n",
        "print(a>b);"
      ],
      "metadata": {
        "colab": {
          "base_uri": "https://localhost:8080/"
        },
        "id": "8VhLVLk9xtXH",
        "outputId": "a61b3311-de88-485b-ef32-dbcfd91bc662"
      },
      "execution_count": null,
      "outputs": [
        {
          "output_type": "stream",
          "name": "stdout",
          "text": [
            "True\n"
          ]
        }
      ]
    },
    {
      "cell_type": "code",
      "source": [
        " a=10\n",
        " b=5\n",
        " print(a>b)"
      ],
      "metadata": {
        "id": "gp2gbC74xtYC",
        "colab": {
          "base_uri": "https://localhost:8080/"
        },
        "outputId": "f70201e4-c5e4-4f95-d1d8-3ca934915f57"
      },
      "execution_count": 1,
      "outputs": [
        {
          "output_type": "stream",
          "name": "stdout",
          "text": [
            "True\n"
          ]
        }
      ]
    },
    {
      "cell_type": "code",
      "source": [
        "print(a!=b);"
      ],
      "metadata": {
        "colab": {
          "base_uri": "https://localhost:8080/"
        },
        "id": "W-p263lEnStS",
        "outputId": "5daaa576-f0a7-444e-ee96-e163c5813d60"
      },
      "execution_count": 2,
      "outputs": [
        {
          "output_type": "stream",
          "name": "stdout",
          "text": [
            "True\n"
          ]
        }
      ]
    },
    {
      "cell_type": "code",
      "source": [
        "a=10\n",
        "a+=10\n",
        "print(a);"
      ],
      "metadata": {
        "colab": {
          "base_uri": "https://localhost:8080/"
        },
        "id": "glSLp545nXbB",
        "outputId": "36b36b8c-bd83-49ac-e91c-1f3697fdeb41"
      },
      "execution_count": 3,
      "outputs": [
        {
          "output_type": "stream",
          "name": "stdout",
          "text": [
            "20\n"
          ]
        }
      ]
    },
    {
      "cell_type": "code",
      "source": [
        " c=10\n",
        " c/=5\n",
        " print(c);"
      ],
      "metadata": {
        "colab": {
          "base_uri": "https://localhost:8080/"
        },
        "id": "DTEn5DHfnf9W",
        "outputId": "2c5621ca-fede-436b-8afd-ff1fdb8c5c47"
      },
      "execution_count": 5,
      "outputs": [
        {
          "output_type": "stream",
          "name": "stdout",
          "text": [
            "2.0\n"
          ]
        }
      ]
    },
    {
      "cell_type": "code",
      "source": [
        ""
      ],
      "metadata": {
        "id": "K5mrReT7oZjX"
      },
      "execution_count": null,
      "outputs": []
    },
    {
      "cell_type": "code",
      "source": [
        "a=21\n",
        "print(a//2); #floor division lower value"
      ],
      "metadata": {
        "colab": {
          "base_uri": "https://localhost:8080/"
        },
        "id": "qojkZBcLoZkQ",
        "outputId": "81e4b724-d710-4c84-f00d-6a471e76b904"
      },
      "execution_count": 6,
      "outputs": [
        {
          "output_type": "stream",
          "name": "stdout",
          "text": [
            "10\n"
          ]
        }
      ]
    },
    {
      "cell_type": "code",
      "source": [
        "a=10\n",
        "b=20\n",
        "c=5\n",
        "print(a>b and c<a);"
      ],
      "metadata": {
        "colab": {
          "base_uri": "https://localhost:8080/"
        },
        "id": "GRYcO4J0oqRH",
        "outputId": "339bcb19-ef97-4e36-e80d-1817a04092fc"
      },
      "execution_count": 7,
      "outputs": [
        {
          "output_type": "stream",
          "name": "stdout",
          "text": [
            "False\n"
          ]
        }
      ]
    },
    {
      "cell_type": "code",
      "source": [
        "print(a>b or c<a);"
      ],
      "metadata": {
        "colab": {
          "base_uri": "https://localhost:8080/"
        },
        "id": "Bnt9goi6o4HT",
        "outputId": "fd35d641-fd2d-4ad2-aee3-3eb28c9053e2"
      },
      "execution_count": 8,
      "outputs": [
        {
          "output_type": "stream",
          "name": "stdout",
          "text": [
            "True\n"
          ]
        }
      ]
    },
    {
      "cell_type": "code",
      "source": [
        "a=10\n",
        "b=5\n",
        "c=not(a>b)\n",
        "print(c)"
      ],
      "metadata": {
        "colab": {
          "base_uri": "https://localhost:8080/"
        },
        "id": "Oy_1co03pADI",
        "outputId": "b12a1e6b-aa6b-44de-f9d5-e961576e230a"
      },
      "execution_count": 9,
      "outputs": [
        {
          "output_type": "stream",
          "name": "stdout",
          "text": [
            "False\n"
          ]
        }
      ]
    },
    {
      "cell_type": "code",
      "source": [
        "lst = [10,20,30,40]\n",
        "a =20\n",
        "print(a in lst);\n",
        "print(a not in lst);"
      ],
      "metadata": {
        "colab": {
          "base_uri": "https://localhost:8080/"
        },
        "id": "jTi_DiBzpK_P",
        "outputId": "af848e40-5366-45a0-b0c7-c2da5097cc24"
      },
      "execution_count": 11,
      "outputs": [
        {
          "output_type": "stream",
          "name": "stdout",
          "text": [
            "True\n",
            "False\n"
          ]
        }
      ]
    },
    {
      "cell_type": "code",
      "source": [
        "a=10\n",
        "b=10\n",
        "print(a is b);\n",
        "print (a is not b);"
      ],
      "metadata": {
        "colab": {
          "base_uri": "https://localhost:8080/"
        },
        "id": "unMGs5FHpLAH",
        "outputId": "67a708ad-c6c0-4b97-b32c-998878209f23"
      },
      "execution_count": 13,
      "outputs": [
        {
          "output_type": "stream",
          "name": "stdout",
          "text": [
            "True\n",
            "False\n"
          ]
        }
      ]
    },
    {
      "cell_type": "code",
      "source": [
        "#control statements\n",
        "''' Conditional Statements '''\n",
        "#if\n",
        "#if elif\n",
        "#if elif else\n",
        "\n",
        "''' transfer statements '''\n",
        "#break\n",
        "#continue\n",
        "#pass\n",
        "\n",
        "'''Iterative Statements '''\n",
        "#For\n",
        "#while\n",
        "\n",
        "a1=10\n",
        "b=20\n",
        "if a1>b:\n",
        "  print(a1,\" a1 is greater\",b)\n",
        "  print(a1)\n",
        "else:\n",
        "  print(b,\" b is greater\", a1)  \n",
        "  print(b)\n",
        "print(\"not yet finished\")  \n",
        "\n",
        "\n"
      ],
      "metadata": {
        "colab": {
          "base_uri": "https://localhost:8080/"
        },
        "id": "rIiWlsIirp4D",
        "outputId": "5bf3c893-8eee-41b0-a498-2912ee63559a"
      },
      "execution_count": 27,
      "outputs": [
        {
          "output_type": "stream",
          "name": "stdout",
          "text": [
            "20  b is greater 10\n",
            "20\n",
            "not yet finished\n"
          ]
        }
      ]
    },
    {
      "cell_type": "code",
      "source": [
        "a = int(input(\"Enter the number\"));\n",
        "print(type(a));"
      ],
      "metadata": {
        "colab": {
          "base_uri": "https://localhost:8080/"
        },
        "id": "6g--yY90uRah",
        "outputId": "81b876dd-c4e4-412c-b749-94e2b8f5eea5"
      },
      "execution_count": 32,
      "outputs": [
        {
          "output_type": "stream",
          "name": "stdout",
          "text": [
            "Enter the number10\n",
            "<class 'int'>\n"
          ]
        }
      ]
    },
    {
      "cell_type": "code",
      "source": [
        "print(a);"
      ],
      "metadata": {
        "colab": {
          "base_uri": "https://localhost:8080/"
        },
        "id": "ny-i91of6JIy",
        "outputId": "e7acde1f-5111-431c-dff4-b7369c596a28"
      },
      "execution_count": 33,
      "outputs": [
        {
          "output_type": "stream",
          "name": "stdout",
          "text": [
            "10\n"
          ]
        }
      ]
    },
    {
      "cell_type": "code",
      "source": [
        " # program to check odd or even\n",
        "\n",
        " a = int(input(\"enter the value for a\"))\n",
        " if a % 2==0:\n",
        "   print(a,'even number');\n",
        " else:\n",
        "   print(a,'odd number');  \n",
        "  "
      ],
      "metadata": {
        "colab": {
          "base_uri": "https://localhost:8080/"
        },
        "id": "sCf2lDJn6x-5",
        "outputId": "325131f3-2638-4696-e5ce-acbecd2a2c2e"
      },
      "execution_count": 35,
      "outputs": [
        {
          "output_type": "stream",
          "name": "stdout",
          "text": [
            "enter the value for a2\n",
            "2 even number\n"
          ]
        }
      ]
    },
    {
      "cell_type": "code",
      "source": [
        "a=10\n",
        "b=20\n",
        "c=5\n",
        "if a>=b and a>=c:\n",
        "  print(\"a is greater\");\n",
        "elif b>=a and b>=c:\n",
        "  print(\"b is greater\");\n",
        "else:\n",
        "  print(\"c is greater\");\n"
      ],
      "metadata": {
        "colab": {
          "base_uri": "https://localhost:8080/"
        },
        "id": "Xxoa5GhZ7hvc",
        "outputId": "9e21ef2d-6ba8-45b4-a292-57143b05f403"
      },
      "execution_count": 37,
      "outputs": [
        {
          "output_type": "stream",
          "name": "stdout",
          "text": [
            "b is greater\n"
          ]
        }
      ]
    },
    {
      "cell_type": "code",
      "source": [
        "# Nesting\n",
        "if a>b:\n",
        "   if a>=c:\n",
        "     print(\"a is greater\")\n",
        "   else:\n",
        "     print(\"c is greater\")\n",
        "elif b>=c:\n",
        "    print(\"b is greater\")\n",
        "else:\n",
        "    print(\"c is greater\")    \n",
        "\n"
      ],
      "metadata": {
        "colab": {
          "base_uri": "https://localhost:8080/"
        },
        "id": "JLpsf6vG7hwT",
        "outputId": "afa3ae3c-fcb0-47a5-cbb0-a0c1e9b033ff"
      },
      "execution_count": 38,
      "outputs": [
        {
          "output_type": "stream",
          "name": "stdout",
          "text": [
            "b is greater\n"
          ]
        }
      ]
    },
    {
      "cell_type": "code",
      "source": [
        "#iterative statement\n",
        "# for\n",
        "# while\n"
      ],
      "metadata": {
        "id": "_EbW1_O_8-8t"
      },
      "execution_count": null,
      "outputs": []
    },
    {
      "cell_type": "code",
      "source": [
        "for x in [1,2,3,4,40,10,20]:\n",
        "  print(x);"
      ],
      "metadata": {
        "colab": {
          "base_uri": "https://localhost:8080/"
        },
        "id": "HnEDbarg-Bho",
        "outputId": "4131df5d-45a1-49d2-ba63-9977b997a692"
      },
      "execution_count": 39,
      "outputs": [
        {
          "output_type": "stream",
          "name": "stdout",
          "text": [
            "1\n",
            "2\n",
            "3\n",
            "4\n",
            "40\n",
            "10\n",
            "20\n"
          ]
        }
      ]
    },
    {
      "cell_type": "code",
      "source": [
        "for x in 'nidhi':\n",
        "  print(x);"
      ],
      "metadata": {
        "colab": {
          "base_uri": "https://localhost:8080/"
        },
        "id": "zUzySNBj-_1o",
        "outputId": "525cf7ca-7223-4c3c-b0f8-af0f447ae5ab"
      },
      "execution_count": 40,
      "outputs": [
        {
          "output_type": "stream",
          "name": "stdout",
          "text": [
            "n\n",
            "i\n",
            "d\n",
            "h\n",
            "i\n"
          ]
        }
      ]
    },
    {
      "cell_type": "code",
      "source": [
        "for x in range(11):\n",
        "  print(x,end='');"
      ],
      "metadata": {
        "colab": {
          "base_uri": "https://localhost:8080/"
        },
        "id": "A6YJPfoW-_2a",
        "outputId": "7040f414-0b8c-4776-b7e0-18dbfe06826c"
      },
      "execution_count": 43,
      "outputs": [
        {
          "output_type": "stream",
          "name": "stdout",
          "text": [
            "012345678910"
          ]
        }
      ]
    },
    {
      "cell_type": "code",
      "source": [
        "for x in range(51):\n",
        "  if x%2!=0:\n",
        "    print(x,end=',');"
      ],
      "metadata": {
        "colab": {
          "base_uri": "https://localhost:8080/"
        },
        "id": "my13MRZ__TqP",
        "outputId": "01aedc99-e899-40ce-8f9e-a71e9b47a8d6"
      },
      "execution_count": 46,
      "outputs": [
        {
          "output_type": "stream",
          "name": "stdout",
          "text": [
            "1,3,5,7,9,11,13,15,17,19,21,23,25,27,29,31,33,35,37,39,41,43,45,47,49,"
          ]
        }
      ]
    },
    {
      "cell_type": "code",
      "source": [
        "for x in range(2,11,2):\n",
        "  print(x,end=',');\n"
      ],
      "metadata": {
        "colab": {
          "base_uri": "https://localhost:8080/"
        },
        "id": "8BY0Z-8o_TrM",
        "outputId": "b7ce79d2-bbdd-4aa5-bbd8-c595b8a35654"
      },
      "execution_count": 49,
      "outputs": [
        {
          "output_type": "stream",
          "name": "stdout",
          "text": [
            "2,4,6,8,10,"
          ]
        }
      ]
    },
    {
      "cell_type": "code",
      "source": [
        "for x in range(10,0,-1):\n",
        "  print(x,end=',');"
      ],
      "metadata": {
        "colab": {
          "base_uri": "https://localhost:8080/"
        },
        "id": "PJOpgRRGBxLB",
        "outputId": "0289c504-a478-4efd-d31f-6433958c8606"
      },
      "execution_count": 50,
      "outputs": [
        {
          "output_type": "stream",
          "name": "stdout",
          "text": [
            "10,9,8,7,6,5,4,3,2,1,"
          ]
        }
      ]
    },
    {
      "cell_type": "code",
      "source": [
        "a=2;\n",
        "b=10;\n",
        "for n in range(a,b+1):\n",
        "  for i in range(1,11):\n",
        "    print(n*i, end=',')\n",
        "  print()  \n",
        "\n"
      ],
      "metadata": {
        "colab": {
          "base_uri": "https://localhost:8080/"
        },
        "id": "RFOvYVoYBxLz",
        "outputId": "33c070f5-bdd6-4afb-c871-38ca136cf50f"
      },
      "execution_count": 51,
      "outputs": [
        {
          "output_type": "stream",
          "name": "stdout",
          "text": [
            "2,4,6,8,10,12,14,16,18,20,\n",
            "3,6,9,12,15,18,21,24,27,30,\n",
            "4,8,12,16,20,24,28,32,36,40,\n",
            "5,10,15,20,25,30,35,40,45,50,\n",
            "6,12,18,24,30,36,42,48,54,60,\n",
            "7,14,21,28,35,42,49,56,63,70,\n",
            "8,16,24,32,40,48,56,64,72,80,\n",
            "9,18,27,36,45,54,63,72,81,90,\n",
            "10,20,30,40,50,60,70,80,90,100,\n"
          ]
        }
      ]
    },
    {
      "cell_type": "code",
      "source": [
        "# while condition:\n",
        "a=10\n",
        "while a>0:\n",
        "  print(a)\n",
        "  a-=1"
      ],
      "metadata": {
        "colab": {
          "base_uri": "https://localhost:8080/"
        },
        "id": "YOH4J9g5XxfW",
        "outputId": "9e18735f-7ba8-4652-cafe-75d5641ed005"
      },
      "execution_count": 52,
      "outputs": [
        {
          "output_type": "stream",
          "name": "stdout",
          "text": [
            "10\n",
            "9\n",
            "8\n",
            "7\n",
            "6\n",
            "5\n",
            "4\n",
            "3\n",
            "2\n",
            "1\n"
          ]
        }
      ]
    },
    {
      "cell_type": "code",
      "source": [
        "#transfer statement\n",
        "# break\n",
        "a=2\n",
        "b=20\n",
        "x=1\n",
        "print('prime numbers')\n",
        "for n in range(a,b+1):\n",
        "  if n%x==0:\n",
        "    break\n",
        "if x+1 == n:\n",
        "    print(\"no is prime\",n);     "
      ],
      "metadata": {
        "colab": {
          "base_uri": "https://localhost:8080/"
        },
        "id": "Ax3st4pqXxgP",
        "outputId": "1a18b19e-6f3c-4735-9342-f99fb035cb7a"
      },
      "execution_count": 58,
      "outputs": [
        {
          "output_type": "stream",
          "name": "stdout",
          "text": [
            "prime numbers\n",
            "no is prime 2\n"
          ]
        }
      ]
    },
    {
      "cell_type": "code",
      "source": [
        "#continue\n",
        "for i in range(10):\n",
        "  if i%2==0:\n",
        "    continue\n",
        "  print(i);  "
      ],
      "metadata": {
        "colab": {
          "base_uri": "https://localhost:8080/"
        },
        "id": "oyOjzOyKbB6t",
        "outputId": "1832ebdf-6a12-45f6-e844-7c01398a23c4"
      },
      "execution_count": 59,
      "outputs": [
        {
          "output_type": "stream",
          "name": "stdout",
          "text": [
            "1\n",
            "3\n",
            "5\n",
            "7\n",
            "9\n"
          ]
        }
      ]
    },
    {
      "cell_type": "code",
      "source": [
        "#pass\n",
        "if 10>5:\n",
        "  pass\n",
        "  "
      ],
      "metadata": {
        "id": "xwftNYYlbB7n"
      },
      "execution_count": 60,
      "outputs": []
    }
  ]
}