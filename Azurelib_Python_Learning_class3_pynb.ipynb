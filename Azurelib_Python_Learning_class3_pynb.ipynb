{
  "nbformat": 4,
  "nbformat_minor": 0,
  "metadata": {
    "colab": {
      "name": "Azurelib-Python-Learning-class3-.pynb",
      "provenance": [],
      "collapsed_sections": [],
      "authorship_tag": "ABX9TyMBLYp8X0Xwjt5pGjKsqvO6",
      "include_colab_link": true
    },
    "kernelspec": {
      "name": "python3",
      "display_name": "Python 3"
    },
    "language_info": {
      "name": "python"
    }
  },
  "cells": [
    {
      "cell_type": "markdown",
      "metadata": {
        "id": "view-in-github",
        "colab_type": "text"
      },
      "source": [
        "<a href=\"https://colab.research.google.com/github/Nidhig631/Python_basic_2022/blob/master/Azurelib_Python_Learning_class3_pynb.ipynb\" target=\"_parent\"><img src=\"https://colab.research.google.com/assets/colab-badge.svg\" alt=\"Open In Colab\"/></a>"
      ]
    },
    {
      "cell_type": "code",
      "source": [
        "#LIST is mutable means can be changed."
      ],
      "metadata": {
        "id": "_DJrIujMk87W"
      },
      "execution_count": null,
      "outputs": []
    },
    {
      "cell_type": "code",
      "execution_count": null,
      "metadata": {
        "colab": {
          "base_uri": "https://localhost:8080/"
        },
        "id": "JTiJ-g7XdK7s",
        "outputId": "fdedd5a4-6bbc-423a-ee82-6c36426d0f8c"
      },
      "outputs": [
        {
          "output_type": "stream",
          "name": "stdout",
          "text": [
            "['deepak', 'nidhi', 'anu']\n",
            "<class 'list'>\n"
          ]
        }
      ],
      "source": [
        "#list\n",
        "lst =['deepak','nidhi','anu']\n",
        "print(lst);\n",
        "print(type(lst));"
      ]
    },
    {
      "cell_type": "code",
      "source": [
        "lst =[1,4,6]\n",
        "print(lst);"
      ],
      "metadata": {
        "colab": {
          "base_uri": "https://localhost:8080/"
        },
        "id": "LYSgceTeeTKW",
        "outputId": "e5feadb1-2410-40da-92aa-1e3d722263d3"
      },
      "execution_count": null,
      "outputs": [
        {
          "output_type": "stream",
          "name": "stdout",
          "text": [
            "[1, 4, 6]\n"
          ]
        }
      ]
    },
    {
      "cell_type": "code",
      "source": [
        "lst = [1,'nidhi',9.0]\n",
        "print(lst);"
      ],
      "metadata": {
        "colab": {
          "base_uri": "https://localhost:8080/"
        },
        "id": "W92WMReZeTLH",
        "outputId": "73303b0f-760b-44d0-cb7f-79ffde28a641"
      },
      "execution_count": null,
      "outputs": [
        {
          "output_type": "stream",
          "name": "stdout",
          "text": [
            "[1, 'nidhi', 9.0]\n"
          ]
        }
      ]
    },
    {
      "cell_type": "code",
      "source": [
        "lst = []\n",
        "print(lst);"
      ],
      "metadata": {
        "colab": {
          "base_uri": "https://localhost:8080/"
        },
        "id": "QAMOGFUvehN2",
        "outputId": "dc7a5c75-0aa7-4daa-dd45-db42d04a6e64"
      },
      "execution_count": null,
      "outputs": [
        {
          "output_type": "stream",
          "name": "stdout",
          "text": [
            "[]\n"
          ]
        }
      ]
    },
    {
      "cell_type": "code",
      "source": [
        "lst =['nidhi',1,[23,67,10,98]]\n",
        "print(lst);\n",
        "print(lst[2][1]);\n",
        "print(lst[0]);\n",
        "print(lst[2][1]);"
      ],
      "metadata": {
        "colab": {
          "base_uri": "https://localhost:8080/"
        },
        "id": "ItFLf2GGfQeT",
        "outputId": "713855ca-b8bd-4813-bdd4-dc5ec7361cb1"
      },
      "execution_count": null,
      "outputs": [
        {
          "output_type": "stream",
          "name": "stdout",
          "text": [
            "['nidhi', 1, [23, 67, 10, 98]]\n",
            "67\n",
            "nidhi\n",
            "67\n"
          ]
        }
      ]
    },
    {
      "cell_type": "code",
      "source": [
        ""
      ],
      "metadata": {
        "id": "BDbwNAlllhiG"
      },
      "execution_count": null,
      "outputs": []
    },
    {
      "cell_type": "code",
      "source": [
        "lst = [2,3,4,5,6]\n",
        "print(lst[-1]);"
      ],
      "metadata": {
        "colab": {
          "base_uri": "https://localhost:8080/"
        },
        "id": "kukFEGyNh47p",
        "outputId": "7cd2f83b-678c-4ccf-e082-7f455e683fba"
      },
      "execution_count": null,
      "outputs": [
        {
          "output_type": "stream",
          "name": "stdout",
          "text": [
            "6\n"
          ]
        }
      ]
    },
    {
      "cell_type": "code",
      "source": [
        "lst = [range(0,5,1)]\n",
        "print(lst);\n",
        "print(type(lst));"
      ],
      "metadata": {
        "colab": {
          "base_uri": "https://localhost:8080/"
        },
        "id": "4aIxF-L4iYQB",
        "outputId": "2f57e59b-c602-4c25-ab8d-852fd4ebe798"
      },
      "execution_count": null,
      "outputs": [
        {
          "output_type": "stream",
          "name": "stdout",
          "text": [
            "[range(0, 5)]\n",
            "<class 'list'>\n"
          ]
        }
      ]
    },
    {
      "cell_type": "code",
      "source": [
        "a='I m nidhi'\n",
        "lst = a.split()\n",
        "print(lst,end=',');"
      ],
      "metadata": {
        "colab": {
          "base_uri": "https://localhost:8080/"
        },
        "id": "SWO2igEoiYQ7",
        "outputId": "bc72e2d9-4416-4d11-a7db-c1b047fe61cb"
      },
      "execution_count": null,
      "outputs": [
        {
          "output_type": "stream",
          "name": "stdout",
          "text": [
            "['I', 'm', 'nidhi'],"
          ]
        }
      ]
    },
    {
      "cell_type": "code",
      "source": [
        "lst =['a','b','c','d','e','f']\n",
        "lst[3]='m'\n",
        "print(lst);"
      ],
      "metadata": {
        "colab": {
          "base_uri": "https://localhost:8080/"
        },
        "id": "h4-sRF94jQjN",
        "outputId": "0349bc15-5a28-42d7-d6cd-2df817a85847"
      },
      "execution_count": null,
      "outputs": [
        {
          "output_type": "stream",
          "name": "stdout",
          "text": [
            "['a', 'b', 'c', 'm', 'e', 'f']\n"
          ]
        }
      ]
    },
    {
      "cell_type": "code",
      "source": [
        ""
      ],
      "metadata": {
        "id": "OKnBxQPdnL5L"
      },
      "execution_count": null,
      "outputs": []
    },
    {
      "cell_type": "code",
      "source": [
        "lst =[2,3,42,45,65,7,8,9,10,11]\n",
        "i=0\n",
        "while (i<len(lst)):''"
      ],
      "metadata": {
        "id": "3MnzQ1N8nL58"
      },
      "execution_count": null,
      "outputs": []
    },
    {
      "cell_type": "code",
      "source": [
        "lst =['a','b','c','d','e','f']\n",
        "print(lst[2:]);\n",
        "print(lst[:2]);"
      ],
      "metadata": {
        "colab": {
          "base_uri": "https://localhost:8080/"
        },
        "id": "yXeqHPD7jQkC",
        "outputId": "cf2cffaa-ba12-4236-8d40-8b7a711c6446"
      },
      "execution_count": null,
      "outputs": [
        {
          "output_type": "stream",
          "name": "stdout",
          "text": [
            "['c', 'd', 'e', 'f']\n",
            "['a', 'b']\n"
          ]
        }
      ]
    },
    {
      "cell_type": "code",
      "source": [
        "# upper limit not included\n",
        "lst =['a','b','c','d','e','f']\n",
        "print(lst[2:4]);\n",
        "print(lst[:]);\n",
        "print(lst[2:5:2]);"
      ],
      "metadata": {
        "colab": {
          "base_uri": "https://localhost:8080/"
        },
        "id": "7t-6uq2Jkodf",
        "outputId": "3acd28e7-1f16-4a59-a293-117a89636902"
      },
      "execution_count": null,
      "outputs": [
        {
          "output_type": "stream",
          "name": "stdout",
          "text": [
            "['c', 'd']\n",
            "['a', 'b', 'c', 'd', 'e', 'f']\n",
            "['c', 'e']\n"
          ]
        }
      ]
    },
    {
      "cell_type": "code",
      "source": [
        "lst =['a','b','c','d','e','f']\n",
        "print(lst[0:]);"
      ],
      "metadata": {
        "colab": {
          "base_uri": "https://localhost:8080/"
        },
        "id": "EdpDEttNk86e",
        "outputId": "4c7b6e6b-7241-4b0e-ea93-17940006284a"
      },
      "execution_count": null,
      "outputs": [
        {
          "output_type": "stream",
          "name": "stdout",
          "text": [
            "['a', 'b', 'c', 'd', 'e', 'f']\n"
          ]
        }
      ]
    },
    {
      "cell_type": "code",
      "source": [
        "lst =[2,3,4,7]\n",
        "print(lst[2]);"
      ],
      "metadata": {
        "colab": {
          "base_uri": "https://localhost:8080/"
        },
        "id": "ZWNvLTHEfkJT",
        "outputId": "29cb56d7-6406-48b1-df53-dfca3b7dd891"
      },
      "execution_count": null,
      "outputs": [
        {
          "output_type": "stream",
          "name": "stdout",
          "text": [
            "4\n"
          ]
        }
      ]
    },
    {
      "cell_type": "code",
      "source": [
        "lst =['a','b','c','d','e','f']\n",
        "lst[4] = 'z'\n",
        "print(lst) "
      ],
      "metadata": {
        "colab": {
          "base_uri": "https://localhost:8080/"
        },
        "id": "fos99-YpUmXN",
        "outputId": "330c7871-e844-4093-9ab9-e123e17f90c4"
      },
      "execution_count": 1,
      "outputs": [
        {
          "output_type": "stream",
          "name": "stdout",
          "text": [
            "['a', 'b', 'c', 'd', 'z', 'f']\n"
          ]
        }
      ]
    },
    {
      "cell_type": "code",
      "source": [
        "lst =[1,2,3,4,5,6,7,8,9,10]\n",
        "i=0\n",
        "while i<len(lst):\n",
        "  print(lst[i],end=',')\n",
        "  i=i+1"
      ],
      "metadata": {
        "colab": {
          "base_uri": "https://localhost:8080/"
        },
        "id": "4qDVw94FUmX5",
        "outputId": "07963549-6d2c-481d-a6c8-5de34cdad07e"
      },
      "execution_count": 7,
      "outputs": [
        {
          "output_type": "stream",
          "name": "stdout",
          "text": [
            "1,2,3,4,5,6,7,8,9,10,"
          ]
        }
      ]
    },
    {
      "cell_type": "code",
      "source": [
        "for x in lst:\n",
        "  print(x);"
      ],
      "metadata": {
        "colab": {
          "base_uri": "https://localhost:8080/"
        },
        "id": "I1If32wDVtbj",
        "outputId": "7ee4b01f-1338-43ab-86f8-0d8884c86a64"
      },
      "execution_count": 8,
      "outputs": [
        {
          "output_type": "stream",
          "name": "stdout",
          "text": [
            "1\n",
            "2\n",
            "3\n",
            "4\n",
            "5\n",
            "6\n",
            "7\n",
            "8\n",
            "9\n",
            "10\n"
          ]
        }
      ]
    },
    {
      "cell_type": "code",
      "source": [
        "odd = [1,3,5,7]\n",
        "even = [2,4,6,8]\n",
        "print(odd+even);"
      ],
      "metadata": {
        "colab": {
          "base_uri": "https://localhost:8080/"
        },
        "id": "YlsHhBcyVtcb",
        "outputId": "72166cb4-2d9b-4950-899e-bbc53b5ab822"
      },
      "execution_count": 10,
      "outputs": [
        {
          "output_type": "stream",
          "name": "stdout",
          "text": [
            "[1, 3, 5, 7, 2, 4, 6, 8]\n"
          ]
        }
      ]
    },
    {
      "cell_type": "code",
      "source": [
        "odd=[1,3,4]\n",
        "print(odd);\n",
        "repeated_list = odd*4\n",
        "print(repeated_list);"
      ],
      "metadata": {
        "colab": {
          "base_uri": "https://localhost:8080/"
        },
        "id": "9yj4nU3hWk6s",
        "outputId": "53e9507e-4468-480c-893b-06965573ec81"
      },
      "execution_count": 13,
      "outputs": [
        {
          "output_type": "stream",
          "name": "stdout",
          "text": [
            "[1, 3, 4]\n",
            "[1, 3, 4, 1, 3, 4, 1, 3, 4, 1, 3, 4]\n"
          ]
        }
      ]
    },
    {
      "cell_type": "code",
      "source": [
        "lst = [1,5]\n",
        "print(lst);\n",
        "lst.insert(1,3)\n",
        "print(lst);\n",
        "lst[2:2]=[6,5]\n",
        "print(lst);\n"
      ],
      "metadata": {
        "colab": {
          "base_uri": "https://localhost:8080/"
        },
        "id": "CCD11WfGXFVX",
        "outputId": "e7986790-ddec-410a-9d20-e383651e837a"
      },
      "execution_count": 15,
      "outputs": [
        {
          "output_type": "stream",
          "name": "stdout",
          "text": [
            "[1, 5]\n",
            "[1, 3, 5]\n",
            "[1, 3, 6, 5, 5]\n"
          ]
        }
      ]
    },
    {
      "cell_type": "code",
      "source": [
        "lst =[3,5,6,8,1]\n",
        "print(lst)\n",
        "del lst[2:4]\n",
        "print(lst)"
      ],
      "metadata": {
        "colab": {
          "base_uri": "https://localhost:8080/"
        },
        "id": "N1HF7VdvXFWH",
        "outputId": "8c98a6f5-741c-488a-8e90-ccc51e54424a"
      },
      "execution_count": 19,
      "outputs": [
        {
          "output_type": "stream",
          "name": "stdout",
          "text": [
            "[3, 5, 6, 8, 1]\n",
            "[3, 5, 1]\n"
          ]
        }
      ]
    },
    {
      "cell_type": "code",
      "source": [
        "lst = [3,5,6,8,1]\n",
        "print(lst)\n",
        "# remove we define element\n",
        "lst.remove(6)\n",
        "print(lst)\n",
        "# pop we define index\n",
        "lst.pop(1)\n",
        "print(lst)\n",
        "#clear all elements\n",
        "lst.clear()\n",
        "print(lst);\n",
        "\n",
        "      \n",
        "\n",
        "\n"
      ],
      "metadata": {
        "colab": {
          "base_uri": "https://localhost:8080/"
        },
        "id": "QbSJXBCQZEyu",
        "outputId": "4548b7cd-2343-468a-ef10-5f9673f537b1"
      },
      "execution_count": 23,
      "outputs": [
        {
          "output_type": "stream",
          "name": "stdout",
          "text": [
            "[3, 5, 6, 8, 1]\n",
            "[3, 5, 8, 1]\n",
            "[3, 8, 1]\n",
            "[]\n"
          ]
        }
      ]
    },
    {
      "cell_type": "code",
      "source": [
        "lst = [3,5,6,8,1]\n",
        "print(lst)\n",
        "lst = len(lst)\n",
        "print(lst);"
      ],
      "metadata": {
        "colab": {
          "base_uri": "https://localhost:8080/"
        },
        "id": "JmbK4_ABaImo",
        "outputId": "746531ff-5559-44e8-c2f6-dc10980b3c4b"
      },
      "execution_count": 24,
      "outputs": [
        {
          "output_type": "stream",
          "name": "stdout",
          "text": [
            "[3, 5, 6, 8, 1]\n",
            "5\n"
          ]
        }
      ]
    },
    {
      "cell_type": "code",
      "source": [
        "lst = [2,3,4,5,4,4,5,6]\n",
        "print(lst.count(4));\n"
      ],
      "metadata": {
        "colab": {
          "base_uri": "https://localhost:8080/"
        },
        "id": "FwYLlK2aaInW",
        "outputId": "ef7d5796-ea7d-41c7-e4fe-53fe419c8be7"
      },
      "execution_count": 25,
      "outputs": [
        {
          "output_type": "stream",
          "name": "stdout",
          "text": [
            "3\n"
          ]
        }
      ]
    },
    {
      "cell_type": "code",
      "source": [
        "lst = [2,3,4,5,4,4,5,6]\n",
        "print(lst.index(5));\n",
        "100 in lst\n",
        "lst.append(10)\n",
        "print(lst)"
      ],
      "metadata": {
        "colab": {
          "base_uri": "https://localhost:8080/"
        },
        "id": "fvSCaQcFbw8Z",
        "outputId": "2d4e1da6-5d14-4bee-9876-88d65688a9af"
      },
      "execution_count": 31,
      "outputs": [
        {
          "output_type": "stream",
          "name": "stdout",
          "text": [
            "3\n",
            "[2, 3, 4, 5, 4, 4, 5, 6, 10]\n"
          ]
        }
      ]
    },
    {
      "cell_type": "code",
      "source": [
        "lst = [2,3,4,5,4,4,5,6]\n",
        "print(lst)\n",
        "lst.insert(1000,10)\n",
        "print(lst);"
      ],
      "metadata": {
        "colab": {
          "base_uri": "https://localhost:8080/"
        },
        "id": "I-vBsQ1Pbw9G",
        "outputId": "0794806f-90aa-4a31-9c88-3f151db71ba8"
      },
      "execution_count": 32,
      "outputs": [
        {
          "output_type": "stream",
          "name": "stdout",
          "text": [
            "[2, 3, 4, 5, 4, 4, 5, 6]\n",
            "[2, 3, 4, 5, 4, 4, 5, 6, 10]\n"
          ]
        }
      ]
    },
    {
      "cell_type": "code",
      "source": [
        "a=[1,3,5]\n",
        "b=[4,5,6]\n",
        "a.extend(b)\n",
        "print(a);"
      ],
      "metadata": {
        "colab": {
          "base_uri": "https://localhost:8080/"
        },
        "id": "K0kNoVSfg5LT",
        "outputId": "4418b77d-c900-4eab-814e-a60bfb89d64e"
      },
      "execution_count": 33,
      "outputs": [
        {
          "output_type": "stream",
          "name": "stdout",
          "text": [
            "[1, 3, 5, 4, 5, 6]\n"
          ]
        }
      ]
    },
    {
      "cell_type": "code",
      "source": [
        "lst = [2,3,4,5,4,4,5,6]\n",
        "lst.reverse()\n",
        "print(lst);"
      ],
      "metadata": {
        "colab": {
          "base_uri": "https://localhost:8080/"
        },
        "id": "VS0ooNpDhLZ7",
        "outputId": "d75e4f35-163c-4fef-a3a7-2169133c351f"
      },
      "execution_count": 35,
      "outputs": [
        {
          "output_type": "stream",
          "name": "stdout",
          "text": [
            "[6, 5, 4, 4, 5, 4, 3, 2]\n"
          ]
        }
      ]
    },
    {
      "cell_type": "code",
      "source": [
        "#ascending\n",
        "lst = [10,2,3,4,5,4,4,5,6]\n",
        "lst.sort()\n",
        "print(lst);\n",
        "\n",
        "#descending\n",
        "lst = [10,2,3,4,5,4,4,5,6]\n",
        "lst.sort(reverse=True)\n",
        "print(lst);"
      ],
      "metadata": {
        "colab": {
          "base_uri": "https://localhost:8080/"
        },
        "id": "I9WBqTGzj0Bd",
        "outputId": "95748bd5-9772-4ed9-9b9b-a805093286ae"
      },
      "execution_count": 39,
      "outputs": [
        {
          "output_type": "stream",
          "name": "stdout",
          "text": [
            "[2, 3, 4, 4, 4, 5, 5, 6, 10]\n",
            "[10, 6, 5, 5, 4, 4, 4, 3, 2]\n"
          ]
        }
      ]
    },
    {
      "cell_type": "code",
      "source": [
        "lst = [2**x for x in range(10)]\n",
        "print(lst);"
      ],
      "metadata": {
        "colab": {
          "base_uri": "https://localhost:8080/"
        },
        "id": "Tpj5A02Sko_l",
        "outputId": "6e6255ac-82d9-4c8b-920b-0e97ff25ee70"
      },
      "execution_count": 40,
      "outputs": [
        {
          "output_type": "stream",
          "name": "stdout",
          "text": [
            "[1, 2, 4, 8, 16, 32, 64, 128, 256, 512]\n"
          ]
        }
      ]
    },
    {
      "cell_type": "code",
      "source": [
        "lst =[1,2,3,4,5]\n",
        "print(lst)\n",
        "lst1= lst.copy()\n",
        "print(lst1)\n",
        "print(id(lst))\n",
        "print(id(lst1));"
      ],
      "metadata": {
        "colab": {
          "base_uri": "https://localhost:8080/"
        },
        "id": "aGjBCrn8kpAU",
        "outputId": "99c8543b-9a82-4577-e999-62dfcb5b4588"
      },
      "execution_count": 41,
      "outputs": [
        {
          "output_type": "stream",
          "name": "stdout",
          "text": [
            "[1, 2, 3, 4, 5]\n",
            "[1, 2, 3, 4, 5]\n",
            "140405206313632\n",
            "140405206577552\n"
          ]
        }
      ]
    },
    {
      "cell_type": "code",
      "source": [
        "lst=[1,2,3,4]\n",
        "lst1 = [1,2,3]\n",
        "print(lst==lst1);"
      ],
      "metadata": {
        "colab": {
          "base_uri": "https://localhost:8080/"
        },
        "id": "FiBZes5ilxx9",
        "outputId": "b50d1d30-1ef6-4090-d477-ac0f7f9ccf5c"
      },
      "execution_count": 42,
      "outputs": [
        {
          "output_type": "stream",
          "name": "stdout",
          "text": [
            "False\n"
          ]
        }
      ]
    },
    {
      "cell_type": "code",
      "source": [
        "lst =['n','i','d','h','i']\n",
        "print(lst);\n",
        "s= ''.join(lst)\n",
        "print(s);"
      ],
      "metadata": {
        "colab": {
          "base_uri": "https://localhost:8080/"
        },
        "id": "B0BZ0BMPlxys",
        "outputId": "8b650903-4dd7-496c-c07f-823282f04543"
      },
      "execution_count": 45,
      "outputs": [
        {
          "output_type": "stream",
          "name": "stdout",
          "text": [
            "['n', 'i', 'd', 'h', 'i']\n",
            "nidhi\n"
          ]
        }
      ]
    },
    {
      "cell_type": "code",
      "source": [
        "#dictionary\n",
        "#mutable, dynamic(empty dic), \n",
        "#key value\n",
        "d={1:\"nidhi\",2:\"gupta\"}\n",
        "d[2]=\"abhi\"\n",
        "print(d[2])\n",
        "\n",
        "d={}\n",
        "print(d)\n",
        "d=dict()\n",
        "print(d)\n",
        "d[\"name1\"] = \"nidhi\"\n",
        "d[\"name2\"] = \"gupta\"\n",
        "print(d);\n",
        " \n",
        "\n",
        "\n",
        " \n"
      ],
      "metadata": {
        "colab": {
          "base_uri": "https://localhost:8080/"
        },
        "id": "qG4s3vd3mqT0",
        "outputId": "b1086e07-0049-4abe-e328-fb59a8239302"
      },
      "execution_count": 58,
      "outputs": [
        {
          "output_type": "stream",
          "name": "stdout",
          "text": [
            "abhi\n",
            "{}\n",
            "{}\n",
            "{'name1': 'nidhi', 'name2': 'gupta'}\n"
          ]
        }
      ]
    },
    {
      "cell_type": "code",
      "source": [
        ""
      ],
      "metadata": {
        "id": "76o3tjeZmqUg"
      },
      "execution_count": null,
      "outputs": []
    }
  ]
}